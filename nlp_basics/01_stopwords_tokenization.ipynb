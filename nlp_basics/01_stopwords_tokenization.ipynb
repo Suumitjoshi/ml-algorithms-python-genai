{
 "cells": [
  {
   "cell_type": "code",
   "execution_count": 6,
   "id": "5cdd7de9",
   "metadata": {},
   "outputs": [
    {
     "name": "stderr",
     "output_type": "stream",
     "text": [
      "[nltk_data] Downloading package punkt to\n",
      "[nltk_data]     C:\\Users\\sumit\\AppData\\Roaming\\nltk_data...\n",
      "[nltk_data]   Package punkt is already up-to-date!\n",
      "[nltk_data] Downloading package stopwords to\n",
      "[nltk_data]     C:\\Users\\sumit\\AppData\\Roaming\\nltk_data...\n",
      "[nltk_data]   Package stopwords is already up-to-date!\n"
     ]
    },
    {
     "data": {
      "text/plain": [
       "True"
      ]
     },
     "execution_count": 6,
     "metadata": {},
     "output_type": "execute_result"
    }
   ],
   "source": [
    "# NLP: Tokenization & Stopword Removal\n",
    "\n",
    "# Step 1: Download NLTK resources\n",
    "import nltk\n",
    "nltk.download('punkt')\n",
    "nltk.download('stopwords')\n"
   ]
  },
  {
   "cell_type": "code",
   "execution_count": 7,
   "id": "50291c21",
   "metadata": {},
   "outputs": [
    {
     "name": "stdout",
     "output_type": "stream",
     "text": [
      "Original Tokens:\n",
      " ['natural', 'language', 'processing', 'nlp', 'is', 'a', 'fascinating', 'field', 'of', 'artificial', 'intelligence', 'it', 'allows', 'machines', 'to', 'read', 'understand', 'and', 'generate', 'human', 'language']\n",
      "\n",
      "Filtered Tokens (no stopwords):\n",
      " ['natural', 'language', 'processing', 'nlp', 'fascinating', 'field', 'artificial', 'intelligence', 'allows', 'machines', 'read', 'understand', 'generate', 'human', 'language']\n"
     ]
    }
   ],
   "source": [
    "# Step 2: Import libraries\n",
    "from nltk.tokenize import word_tokenize\n",
    "from nltk.corpus import stopwords\n",
    "import string\n",
    "\n",
    "# Step 3: Sample text\n",
    "text = \"Natural Language Processing (NLP) is a fascinating field of Artificial Intelligence. It allows machines to read, understand, and generate human language.\"\n",
    "\n",
    "# Step 4: Lowercase and remove punctuation\n",
    "text_clean = text.lower().translate(str.maketrans('', '', string.punctuation))\n",
    "\n",
    "# Step 5: Tokenize\n",
    "tokens = word_tokenize(text_clean)\n",
    "\n",
    "# Step 6: Remove stopwords\n",
    "stop_words = set(stopwords.words(\"english\"))\n",
    "filtered_tokens = [word for word in tokens if word not in stop_words]\n",
    "\n",
    "# Step 7: Print output\n",
    "print(\"Original Tokens:\\n\", tokens)\n",
    "print(\"\\nFiltered Tokens (no stopwords):\\n\", filtered_tokens)"
   ]
  }
 ],
 "metadata": {
  "kernelspec": {
   "display_name": "base",
   "language": "python",
   "name": "python3"
  },
  "language_info": {
   "codemirror_mode": {
    "name": "ipython",
    "version": 3
   },
   "file_extension": ".py",
   "mimetype": "text/x-python",
   "name": "python",
   "nbconvert_exporter": "python",
   "pygments_lexer": "ipython3",
   "version": "3.13.5"
  }
 },
 "nbformat": 4,
 "nbformat_minor": 5
}
