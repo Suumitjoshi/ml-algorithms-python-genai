{
 "cells": [
  {
   "cell_type": "code",
   "execution_count": 14,
   "id": "23c4844f",
   "metadata": {},
   "outputs": [
    {
     "name": "stdout",
     "output_type": "stream",
     "text": [
      "['I', \"'m\", 'loving', 'spaCy', '—', 'it', \"'s\", 'awesome', '!', 'Visit', 'https://example.com', '.']\n"
     ]
    }
   ],
   "source": [
    "# NLP: Tokenization & Stopword Removal using spaCy. This is advanced as compared to NLTK\n",
    "# While NLTK’s word_tokenize would simply split on whitespace and punctuation, spaCy’s hybrid approach keeps “spaCy—it's” as [\"spaCy\", \"—\", \"it\", \"'s\"] (or similar), and correctly preserves URLs, emoticons, and multi‑word tokens you’ve configured.\n",
    "\n",
    "import spacy\n",
    "from spacy.tokenizer import Tokenizer\n",
    "from spacy.lang.en import English\n",
    "from spacy.util import compile_infix_regex\n",
    "\n",
    "nlp = English()  # blank pipeline\n",
    "\n",
    "#  Step 1: View default infix patterns\n",
    "#infix_patterns = nlp.Defaults.infixes\n",
    "\n",
    "#  Step 2: Compile infix regex from patterns\n",
    "#import re\n",
    "#infix_re = re.compile(\"|\".join(infix_patterns))\n",
    "\n",
    "#   Step 2 (Optional): Modify infix rules (e.g., keep hyphenated words intact)\n",
    "# This is faster code as compared to the above one. Now it generate less token and faster as compard to NLTK \n",
    "infixes = [x for x in nlp.Defaults.infixes if x != r\"(?<=[A-Za-z0-9])[-–~](?=[A-Za-z0-9])\"]\n",
    "infix_re = compile_infix_regex(infixes)\n",
    "nlp.tokenizer.infix_finditer = infix_re.finditer\n",
    "\n",
    "text = \"I'm loving spaCy—it's awesome! Visit https://example.com.\"\n",
    "\n",
    "\n",
    "doc = nlp(text)\n",
    "print([token.text for token in doc])"
   ]
  },
  {
   "cell_type": "code",
   "execution_count": null,
   "id": "40aabc77",
   "metadata": {},
   "outputs": [
    {
     "name": "stdout",
     "output_type": "stream",
     "text": [
      "🔹 NLTK Tokens:\n",
      "['I', \"'m\", 'loving', 'spaCy—it', \"'s\", 'awesome', '!', 'Visit', 'https', ':', '//example.com', '.']\n"
     ]
    },
    {
     "name": "stderr",
     "output_type": "stream",
     "text": [
      "[nltk_data] Downloading package punkt to\n",
      "[nltk_data]     C:\\Users\\sumit\\AppData\\Roaming\\nltk_data...\n",
      "[nltk_data]   Package punkt is already up-to-date!\n"
     ]
    }
   ],
   "source": [
    "#When Fewer Tokens Are Preferred\n",
    "#in case of: Quick text classification, Keyword search or indexing\t, Simpler BoW/TF-IDF features \n",
    "# High spead as compared to spaCy\n",
    " \n",
    "import nltk\n",
    "from nltk.tokenize import word_tokenize\n",
    "nltk.download('punkt')\n",
    "\n",
    "#  Sample text\n",
    "text = \"I'm loving spaCy—it's awesome! Visit https://example.com.\"\n",
    "\n",
    "#  Tokenize using NLTK\n",
    "tokens = word_tokenize(text)\n",
    "\n",
    "#  Output\n",
    "print(\"🔹 NLTK Tokens:\")\n",
    "print(tokens)\n"
   ]
  }
 ],
 "metadata": {
  "kernelspec": {
   "display_name": "base",
   "language": "python",
   "name": "python3"
  },
  "language_info": {
   "codemirror_mode": {
    "name": "ipython",
    "version": 3
   },
   "file_extension": ".py",
   "mimetype": "text/x-python",
   "name": "python",
   "nbconvert_exporter": "python",
   "pygments_lexer": "ipython3",
   "version": "3.13.5"
  }
 },
 "nbformat": 4,
 "nbformat_minor": 5
}
