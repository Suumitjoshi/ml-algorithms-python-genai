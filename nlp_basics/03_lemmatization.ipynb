{
 "cells": [
  {
   "cell_type": "code",
   "execution_count": 2,
   "id": "1ed331ae",
   "metadata": {},
   "outputs": [
    {
     "name": "stdout",
     "output_type": "stream",
     "text": [
      "spaCy Lemmas: ['run', 'fly', 'fairly', 'well', 'study', 'study']\n"
     ]
    }
   ],
   "source": [
    "#Stemming is the process of removing prefixes or suffixes from a word to reduce it to its root or stem form.\n",
    "#Lemmatization reduces a word to its base or dictionary form (lemma) using:\n",
    "# spacy dosent suppot Stemming\n",
    "#| Feature        | Stemming                    | Lemmatization               |\n",
    "#| -------------- | --------------------------- | --------------------------- |\n",
    "#| Output         | Root form (may not be real) | Base form (dictionary word) |\n",
    "#| Example        | `flies → fli`               | `flies → fly`               |\n",
    "#| Accuracy       | Crude                       | Accurate                  |\n",
    "#| Speed          | Fast                        | Slower                   |\n",
    "#| Part-of-speech | Not required                |  Often required            |\n",
    "#| Libraries      | NLTK, Snowball              | NLTK (WordNet), spaCy       |\n",
    "\n",
    "\n",
    "\n",
    "import spacy\n",
    "nlp = spacy.load(\"en_core_web_sm\")\n",
    "\n",
    "doc = nlp(\"running flies fairly better studies studying\")\n",
    "spacy_lemmas = [token.lemma_ for token in doc]\n",
    "print(\"spaCy Lemmas:\", spacy_lemmas)\n"
   ]
  }
 ],
 "metadata": {
  "kernelspec": {
   "display_name": "base",
   "language": "python",
   "name": "python3"
  },
  "language_info": {
   "codemirror_mode": {
    "name": "ipython",
    "version": 3
   },
   "file_extension": ".py",
   "mimetype": "text/x-python",
   "name": "python",
   "nbconvert_exporter": "python",
   "pygments_lexer": "ipython3",
   "version": "3.13.5"
  }
 },
 "nbformat": 4,
 "nbformat_minor": 5
}
